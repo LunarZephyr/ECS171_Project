{
 "cells": [
  {
   "cell_type": "code",
   "execution_count": 1,
   "id": "2bffbdc1",
   "metadata": {},
   "outputs": [],
   "source": [
    "import seaborn as sb\n",
    "import numpy as np\n",
    "import pandas as pd\n",
    "import matplotlib.pyplot as plt\n",
    "import seaborn as sns"
   ]
  },
  {
   "cell_type": "code",
   "execution_count": 50,
   "id": "4a5b8fc7",
   "metadata": {},
   "outputs": [
    {
     "data": {
      "text/plain": [
       "Index(['Unnamed: 0', 'generation biomass',\n",
       "       'generation fossil brown coal/lignite',\n",
       "       'generation fossil coal-derived gas', 'generation fossil gas',\n",
       "       'generation fossil hard coal', 'generation fossil oil',\n",
       "       'generation fossil oil shale', 'generation fossil peat',\n",
       "       'generation geothermal', 'generation hydro pumped storage aggregated',\n",
       "       'generation hydro pumped storage consumption',\n",
       "       'generation hydro run-of-river and poundage',\n",
       "       'generation hydro water reservoir', 'generation marine',\n",
       "       'generation nuclear', 'generation other', 'generation other renewable',\n",
       "       'generation solar', 'generation waste', 'generation wind offshore',\n",
       "       'generation wind onshore', 'forecast solar day ahead',\n",
       "       'forecast wind offshore eday ahead', 'forecast wind onshore day ahead',\n",
       "       'total load forecast', 'total load actual', 'price day ahead',\n",
       "       'price actual', 'temp', 'temp_min', 'temp_max', 'pressure', 'humidity',\n",
       "       'wind_speed', 'wind_deg', 'rain_1h', 'rain_3h', 'snow_3h', 'clouds_all',\n",
       "       'weather_id'],\n",
       "      dtype='object')"
      ]
     },
     "execution_count": 50,
     "metadata": {},
     "output_type": "execute_result"
    }
   ],
   "source": [
    "df = pd.read_csv(\"../Josh/AvgEnergyWeather.csv\")\n",
    "df.columns"
   ]
  },
  {
   "cell_type": "code",
   "execution_count": 82,
   "id": "a7d6b39d",
   "metadata": {},
   "outputs": [
    {
     "data": {
      "text/plain": [
       "((32257, 9), (32257, 1), (32257, 1))"
      ]
     },
     "execution_count": 82,
     "metadata": {},
     "output_type": "execute_result"
    }
   ],
   "source": [
    "weather_features = [\n",
    "    \"temp\",\n",
    "    \"pressure\",\n",
    "    \"humidity\",\n",
    "    \"wind_speed\",\n",
    "    \"wind_deg\",\n",
    "    \"rain_1h\",\n",
    "    \"rain_3h\",\n",
    "    \"snow_3h\",\n",
    "    \"clouds_all\",\n",
    "]\n",
    "df = pd.DataFrame(df, columns=weather_features + [\"price actual\", \"total load actual\"])\n",
    "df.dropna(inplace=True)\n",
    "weather_df = pd.DataFrame(df, columns=weather_categories)\n",
    "price = pd.DataFrame(df, columns=[\"price actual\"])\n",
    "load = pd.DataFrame(df, columns=[\"total load actual\"])\n",
    "weather_df.shape, price.shape, load.shape"
   ]
  },
  {
   "cell_type": "code",
   "execution_count": 53,
   "id": "3299503a",
   "metadata": {},
   "outputs": [],
   "source": [
    "from sklearn.preprocessing import MinMaxScaler\n",
    "\n",
    "scaler = MinMaxScaler()\n",
    "weather_df, price, load = (\n",
    "    scaler.fit_transform(weather_df),\n",
    "    scaler.fit_transform(price),\n",
    "    scaler.fit_transform(load),\n",
    ")"
   ]
  },
  {
   "cell_type": "code",
   "execution_count": 62,
   "id": "87a57e58",
   "metadata": {},
   "outputs": [
    {
     "data": {
      "text/html": [
       "<div>\n",
       "<style scoped>\n",
       "    .dataframe tbody tr th:only-of-type {\n",
       "        vertical-align: middle;\n",
       "    }\n",
       "\n",
       "    .dataframe tbody tr th {\n",
       "        vertical-align: top;\n",
       "    }\n",
       "\n",
       "    .dataframe thead th {\n",
       "        text-align: right;\n",
       "    }\n",
       "</style>\n",
       "<table border=\"1\" class=\"dataframe\">\n",
       "  <thead>\n",
       "    <tr style=\"text-align: right;\">\n",
       "      <th></th>\n",
       "      <th>0</th>\n",
       "    </tr>\n",
       "  </thead>\n",
       "  <tbody>\n",
       "    <tr>\n",
       "      <th>count</th>\n",
       "      <td>32257.000000</td>\n",
       "    </tr>\n",
       "    <tr>\n",
       "      <th>mean</th>\n",
       "      <td>0.513087</td>\n",
       "    </tr>\n",
       "    <tr>\n",
       "      <th>std</th>\n",
       "      <td>0.138708</td>\n",
       "    </tr>\n",
       "    <tr>\n",
       "      <th>min</th>\n",
       "      <td>0.000000</td>\n",
       "    </tr>\n",
       "    <tr>\n",
       "      <th>25%</th>\n",
       "      <td>0.431004</td>\n",
       "    </tr>\n",
       "    <tr>\n",
       "      <th>50%</th>\n",
       "      <td>0.517601</td>\n",
       "    </tr>\n",
       "    <tr>\n",
       "      <th>75%</th>\n",
       "      <td>0.611619</td>\n",
       "    </tr>\n",
       "    <tr>\n",
       "      <th>max</th>\n",
       "      <td>1.000000</td>\n",
       "    </tr>\n",
       "  </tbody>\n",
       "</table>\n",
       "</div>"
      ],
      "text/plain": [
       "                  0\n",
       "count  32257.000000\n",
       "mean       0.513087\n",
       "std        0.138708\n",
       "min        0.000000\n",
       "25%        0.431004\n",
       "50%        0.517601\n",
       "75%        0.611619\n",
       "max        1.000000"
      ]
     },
     "execution_count": 62,
     "metadata": {},
     "output_type": "execute_result"
    }
   ],
   "source": [
    "pd.DataFrame(price).describe()"
   ]
  },
  {
   "cell_type": "code",
   "execution_count": 64,
   "id": "0bbcc1b2",
   "metadata": {},
   "outputs": [
    {
     "data": {
      "text/html": [
       "<div>\n",
       "<style scoped>\n",
       "    .dataframe tbody tr th:only-of-type {\n",
       "        vertical-align: middle;\n",
       "    }\n",
       "\n",
       "    .dataframe tbody tr th {\n",
       "        vertical-align: top;\n",
       "    }\n",
       "\n",
       "    .dataframe thead th {\n",
       "        text-align: right;\n",
       "    }\n",
       "</style>\n",
       "<table border=\"1\" class=\"dataframe\">\n",
       "  <thead>\n",
       "    <tr style=\"text-align: right;\">\n",
       "      <th></th>\n",
       "      <th>0</th>\n",
       "    </tr>\n",
       "  </thead>\n",
       "  <tbody>\n",
       "    <tr>\n",
       "      <th>count</th>\n",
       "      <td>32257.000000</td>\n",
       "    </tr>\n",
       "    <tr>\n",
       "      <th>mean</th>\n",
       "      <td>0.457289</td>\n",
       "    </tr>\n",
       "    <tr>\n",
       "      <th>std</th>\n",
       "      <td>0.127293</td>\n",
       "    </tr>\n",
       "    <tr>\n",
       "      <th>min</th>\n",
       "      <td>0.000000</td>\n",
       "    </tr>\n",
       "    <tr>\n",
       "      <th>25%</th>\n",
       "      <td>0.376370</td>\n",
       "    </tr>\n",
       "    <tr>\n",
       "      <th>50%</th>\n",
       "      <td>0.456018</td>\n",
       "    </tr>\n",
       "    <tr>\n",
       "      <th>75%</th>\n",
       "      <td>0.536654</td>\n",
       "    </tr>\n",
       "    <tr>\n",
       "      <th>max</th>\n",
       "      <td>1.000000</td>\n",
       "    </tr>\n",
       "  </tbody>\n",
       "</table>\n",
       "</div>"
      ],
      "text/plain": [
       "                  0\n",
       "count  32257.000000\n",
       "mean       0.457289\n",
       "std        0.127293\n",
       "min        0.000000\n",
       "25%        0.376370\n",
       "50%        0.456018\n",
       "75%        0.536654\n",
       "max        1.000000"
      ]
     },
     "execution_count": 64,
     "metadata": {},
     "output_type": "execute_result"
    }
   ],
   "source": [
    "pd.DataFrame(load).describe()"
   ]
  },
  {
   "cell_type": "code",
   "execution_count": 65,
   "id": "32bf4cbe",
   "metadata": {},
   "outputs": [],
   "source": [
    "from sklearn.model_selection import train_test_split\n",
    "\n",
    "# Split the data by a 80:20 ratio\n",
    "weather_train, weather_test, price_train, price_test = train_test_split(\n",
    "    weather_df, price, test_size=0.2, random_state=5\n",
    ")"
   ]
  },
  {
   "cell_type": "code",
   "execution_count": 66,
   "id": "0774bf0e",
   "metadata": {},
   "outputs": [
    {
     "data": {
      "text/plain": [
       "RandomForestRegressor()"
      ]
     },
     "execution_count": 66,
     "metadata": {},
     "output_type": "execute_result"
    }
   ],
   "source": [
    "from sklearn.ensemble import RandomForestRegressor\n",
    "\n",
    "price_regressor = RandomForestRegressor(n_estimators=100)\n",
    "price_regressor.fit(weather_train, price_train.ravel())"
   ]
  },
  {
   "cell_type": "code",
   "execution_count": 67,
   "id": "2f25fd65",
   "metadata": {},
   "outputs": [],
   "source": [
    "price_train_pred = price_regressor.predict(weather_train)"
   ]
  },
  {
   "cell_type": "code",
   "execution_count": 78,
   "id": "759e4a76",
   "metadata": {},
   "outputs": [
    {
     "name": "stdout",
     "output_type": "stream",
     "text": [
      "Training MSE: 0.002\n",
      "Training RMSE: 0.041\n"
     ]
    }
   ],
   "source": [
    "from sklearn.metrics import mean_squared_error\n",
    "\n",
    "print(\"Training MSE: %.3f\" % mean_squared_error(price_train, price_train_pred))\n",
    "print(\n",
    "    \"Training RMSE: %.3f\"\n",
    "    % mean_squared_error(price_train, price_train_pred, squared=False)\n",
    ")"
   ]
  },
  {
   "cell_type": "code",
   "execution_count": 69,
   "id": "53c21ac4",
   "metadata": {},
   "outputs": [],
   "source": [
    "price_test_pred = price_regressor.predict(weather_test)"
   ]
  },
  {
   "cell_type": "code",
   "execution_count": 79,
   "id": "44c72030",
   "metadata": {},
   "outputs": [
    {
     "name": "stdout",
     "output_type": "stream",
     "text": [
      "Testing MSE: 0.012\n",
      "Testing RMSE: 0.109\n"
     ]
    }
   ],
   "source": [
    "print(\"Testing MSE: %.3f\" % mean_squared_error(price_test, price_test_pred))\n",
    "print(\n",
    "    \"Testing RMSE: %.3f\"\n",
    "    % mean_squared_error(price_test, price_test_pred, squared=False)\n",
    ")"
   ]
  },
  {
   "cell_type": "code",
   "execution_count": 19,
   "id": "0fda8df3",
   "metadata": {},
   "outputs": [],
   "source": [
    "import pickle5 as pickle \n",
    "\n",
    "with open('../../www/model_pkl', 'wb') as files:\n",
    "    pickle.dump(price_regressor, files)"
   ]
  },
  {
   "cell_type": "markdown",
   "id": "5548f45d",
   "metadata": {},
   "source": [
    "## Regression Model for Total Load"
   ]
  },
  {
   "cell_type": "code",
   "execution_count": 71,
   "id": "9bcc45bd",
   "metadata": {},
   "outputs": [],
   "source": [
    "# Split the data by a 80:20 ratio\n",
    "weather_train, weather_test, load_train, load_test = train_test_split(\n",
    "    weather_df, load, test_size=0.2, random_state=5\n",
    ")"
   ]
  },
  {
   "cell_type": "code",
   "execution_count": 72,
   "id": "a2a8448d",
   "metadata": {},
   "outputs": [
    {
     "data": {
      "text/plain": [
       "RandomForestRegressor()"
      ]
     },
     "execution_count": 72,
     "metadata": {},
     "output_type": "execute_result"
    }
   ],
   "source": [
    "load_regressor = RandomForestRegressor(n_estimators=100)\n",
    "load_regressor.fit(weather_train, load_train.ravel())"
   ]
  },
  {
   "cell_type": "code",
   "execution_count": 74,
   "id": "bff7f468",
   "metadata": {},
   "outputs": [],
   "source": [
    "load_train_pred = load_regressor.predict(weather_train)"
   ]
  },
  {
   "cell_type": "code",
   "execution_count": 80,
   "id": "6da51a7e",
   "metadata": {},
   "outputs": [
    {
     "name": "stdout",
     "output_type": "stream",
     "text": [
      "Total Load Training MSE: 0.001\n",
      "Total Load Training RMSE: 0.037\n"
     ]
    }
   ],
   "source": [
    "from sklearn.metrics import mean_squared_error\n",
    "\n",
    "print(\"Total Load Training MSE: %.3f\" % mean_squared_error(load_train, load_train_pred))\n",
    "print(\n",
    "    \"Total Load Training RMSE: %.3f\"\n",
    "    % mean_squared_error(load_train, load_train_pred, squared=False)\n",
    ")"
   ]
  },
  {
   "cell_type": "code",
   "execution_count": 76,
   "id": "49b8ddd5",
   "metadata": {},
   "outputs": [],
   "source": [
    "load_test_pred = load_regressor.predict(weather_test)"
   ]
  },
  {
   "cell_type": "code",
   "execution_count": 81,
   "id": "802a6947",
   "metadata": {},
   "outputs": [
    {
     "name": "stdout",
     "output_type": "stream",
     "text": [
      "Total Load Testing MSE: 0.010\n",
      "Total Load Testing RMSE: 0.101\n"
     ]
    }
   ],
   "source": [
    "print(\"Total Load Testing MSE: %.3f\" % mean_squared_error(load_test, load_test_pred))\n",
    "print(\n",
    "    \"Total Load Testing RMSE: %.3f\"\n",
    "    % mean_squared_error(load_test, load_test_pred, squared=False)\n",
    ")"
   ]
  },
  {
   "cell_type": "code",
   "execution_count": null,
   "id": "d5c11b1c",
   "metadata": {},
   "outputs": [],
   "source": []
  }
 ],
 "metadata": {
  "interpreter": {
   "hash": "8eba5b4ee3794b97021a6027c752b400ec20575a6f66fbc38e6cd9546f3af4e4"
  },
  "kernelspec": {
   "display_name": "Python 3",
   "language": "python",
   "name": "python3"
  },
  "language_info": {
   "codemirror_mode": {
    "name": "ipython",
    "version": 3
   },
   "file_extension": ".py",
   "mimetype": "text/x-python",
   "name": "python",
   "nbconvert_exporter": "python",
   "pygments_lexer": "ipython3",
   "version": "3.8.13"
  }
 },
 "nbformat": 4,
 "nbformat_minor": 5
}
