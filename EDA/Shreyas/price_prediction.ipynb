{
 "cells": [
  {
   "cell_type": "code",
   "execution_count": 50,
   "id": "2bffbdc1",
   "metadata": {},
   "outputs": [],
   "source": [
    "import seaborn as sb\n",
    "import numpy as np\n",
    "import pandas as pd\n",
    "import matplotlib.pyplot as plt\n",
    "import seaborn as sns"
   ]
  },
  {
   "cell_type": "code",
   "execution_count": 51,
   "id": "4a5b8fc7",
   "metadata": {},
   "outputs": [],
   "source": [
    "df = pd.read_csv(\"../Josh/EnergyAndAvgWeather.csv\")"
   ]
  },
  {
   "cell_type": "code",
   "execution_count": 83,
   "id": "a7d6b39d",
   "metadata": {},
   "outputs": [
    {
     "data": {
      "text/plain": [
       "((32346, 1), (32346, 1))"
      ]
     },
     "execution_count": 83,
     "metadata": {},
     "output_type": "execute_result"
    }
   ],
   "source": [
    "temp = pd.DataFrame(df, columns=['temp'])\n",
    "price = pd.DataFrame(df, columns=['price actual'])\n",
    "temp.dropna(inplace=True)\n",
    "price.dropna(inplace=True)\n",
    "temp.shape, price.shape"
   ]
  },
  {
   "cell_type": "code",
   "execution_count": 87,
   "id": "d5ab6987",
   "metadata": {},
   "outputs": [
    {
     "data": {
      "text/html": [
       "<div>\n",
       "<style scoped>\n",
       "    .dataframe tbody tr th:only-of-type {\n",
       "        vertical-align: middle;\n",
       "    }\n",
       "\n",
       "    .dataframe tbody tr th {\n",
       "        vertical-align: top;\n",
       "    }\n",
       "\n",
       "    .dataframe thead th {\n",
       "        text-align: right;\n",
       "    }\n",
       "</style>\n",
       "<table border=\"1\" class=\"dataframe\">\n",
       "  <thead>\n",
       "    <tr style=\"text-align: right;\">\n",
       "      <th></th>\n",
       "      <th>price actual</th>\n",
       "    </tr>\n",
       "  </thead>\n",
       "  <tbody>\n",
       "    <tr>\n",
       "      <th>count</th>\n",
       "      <td>32346.000000</td>\n",
       "    </tr>\n",
       "    <tr>\n",
       "      <th>mean</th>\n",
       "      <td>57.651638</td>\n",
       "    </tr>\n",
       "    <tr>\n",
       "      <th>std</th>\n",
       "      <td>11.947457</td>\n",
       "    </tr>\n",
       "    <tr>\n",
       "      <th>min</th>\n",
       "      <td>13.554000</td>\n",
       "    </tr>\n",
       "    <tr>\n",
       "      <th>25%</th>\n",
       "      <td>50.594500</td>\n",
       "    </tr>\n",
       "    <tr>\n",
       "      <th>50%</th>\n",
       "      <td>58.050000</td>\n",
       "    </tr>\n",
       "    <tr>\n",
       "      <th>75%</th>\n",
       "      <td>66.136000</td>\n",
       "    </tr>\n",
       "    <tr>\n",
       "      <th>max</th>\n",
       "      <td>99.516000</td>\n",
       "    </tr>\n",
       "  </tbody>\n",
       "</table>\n",
       "</div>"
      ],
      "text/plain": [
       "       price actual\n",
       "count  32346.000000\n",
       "mean      57.651638\n",
       "std       11.947457\n",
       "min       13.554000\n",
       "25%       50.594500\n",
       "50%       58.050000\n",
       "75%       66.136000\n",
       "max       99.516000"
      ]
     },
     "execution_count": 87,
     "metadata": {},
     "output_type": "execute_result"
    }
   ],
   "source": [
    "price.describe()"
   ]
  },
  {
   "cell_type": "code",
   "execution_count": 71,
   "id": "3299503a",
   "metadata": {},
   "outputs": [],
   "source": [
    "from sklearn.preprocessing import MinMaxScaler\n",
    "\n",
    "scaler = MinMaxScaler()\n",
    "temp, price = scaler.fit_transform(temp), scaler.fit_transform(price)"
   ]
  },
  {
   "cell_type": "code",
   "execution_count": 72,
   "id": "32bf4cbe",
   "metadata": {},
   "outputs": [],
   "source": [
    "from sklearn.model_selection import train_test_split\n",
    "\n",
    "# Split the data by a 80:20 ratio\n",
    "temp_train, temp_test, price_train, price_test = train_test_split(\n",
    "    temp, price, test_size=0.2, random_state=5\n",
    ")"
   ]
  },
  {
   "cell_type": "code",
   "execution_count": 73,
   "id": "0774bf0e",
   "metadata": {},
   "outputs": [
    {
     "data": {
      "text/plain": [
       "RandomForestRegressor()"
      ]
     },
     "execution_count": 73,
     "metadata": {},
     "output_type": "execute_result"
    }
   ],
   "source": [
    "from sklearn.ensemble import RandomForestRegressor\n",
    "\n",
    "forest_regressor = RandomForestRegressor(n_estimators=100)\n",
    "forest_regressor.fit(temp_train, price_train.ravel())"
   ]
  },
  {
   "cell_type": "code",
   "execution_count": 74,
   "id": "2f25fd65",
   "metadata": {},
   "outputs": [],
   "source": [
    "price_train_pred = forest_regressor.predict(temp_train)"
   ]
  },
  {
   "cell_type": "code",
   "execution_count": 75,
   "id": "a6f87d35",
   "metadata": {},
   "outputs": [
    {
     "data": {
      "text/plain": [
       "<matplotlib.legend.Legend at 0x16b136460>"
      ]
     },
     "execution_count": 75,
     "metadata": {},
     "output_type": "execute_result"
    },
    {
     "data": {
      "image/png": "[encoded data removed]",
      "text/plain": [
       "<Figure size 432x288 with 1 Axes>"
      ]
     },
     "metadata": {
      "needs_background": "light"
     },
     "output_type": "display_data"
    }
   ],
   "source": [
    "plt.plot(temp_train, price_train, marker=\"o\", linestyle=\"\", label=\"Actual\")\n",
    "plt.plot(temp_train, price_train_pred, marker=\"o\", linestyle=\"\", label=\"Prediction\")\n",
    "plt.legend()"
   ]
  },
  {
   "cell_type": "code",
   "execution_count": 76,
   "id": "759e4a76",
   "metadata": {},
   "outputs": [
    {
     "name": "stdout",
     "output_type": "stream",
     "text": [
      "Training RMSE: 0.085\n"
     ]
    }
   ],
   "source": [
    "from sklearn.metrics import mean_squared_error\n",
    "\n",
    "print(\n",
    "    \"Training RMSE: %.3f\"\n",
    "    % mean_squared_error(price_train, price_train_pred, squared=False)\n",
    ")"
   ]
  },
  {
   "cell_type": "code",
   "execution_count": 77,
   "id": "7dbc5350",
   "metadata": {},
   "outputs": [
    {
     "name": "stdout",
     "output_type": "stream",
     "text": [
      "Unscaled Training RMSE: 7.326\n"
     ]
    }
   ],
   "source": [
    "print(\n",
    "    \"Unscaled Training RMSE: %.3f\"\n",
    "    % mean_squared_error(\n",
    "        scaler.inverse_transform(price_train),\n",
    "        scaler.inverse_transform(price_train_pred.reshape(-1, 1)),\n",
    "        squared=False,\n",
    "    )\n",
    ")"
   ]
  },
  {
   "cell_type": "code",
   "execution_count": 78,
   "id": "53c21ac4",
   "metadata": {},
   "outputs": [],
   "source": [
    "price_test_pred = forest_regressor.predict(temp_test)"
   ]
  },
  {
   "cell_type": "code",
   "execution_count": 79,
   "id": "7b1ae4cb",
   "metadata": {},
   "outputs": [
    {
     "data": {
      "text/plain": [
       "<matplotlib.legend.Legend at 0x15eee1fd0>"
      ]
     },
     "execution_count": 79,
     "metadata": {},
     "output_type": "execute_result"
    },
    {
     "data": {
      "image/png": "[encoded data removed]",
      "text/plain": [
       "<Figure size 432x288 with 1 Axes>"
      ]
     },
     "metadata": {
      "needs_background": "light"
     },
     "output_type": "display_data"
    }
   ],
   "source": [
    "plt.plot(temp_test, price_test, marker=\"o\", linestyle=\"\", label=\"Actual\")\n",
    "plt.plot(temp_test, price_test_pred, marker=\"o\", linestyle=\"\", label=\"Prediction\")\n",
    "plt.legend()"
   ]
  },
  {
   "cell_type": "code",
   "execution_count": 80,
   "id": "44c72030",
   "metadata": {},
   "outputs": [
    {
     "name": "stdout",
     "output_type": "stream",
     "text": [
      "Testing RMSE: 0.160\n"
     ]
    }
   ],
   "source": [
    "print(\n",
    "    \"Testing RMSE: %.3f\"\n",
    "    % mean_squared_error(price_test, price_test_pred, squared=False)\n",
    ")"
   ]
  },
  {
   "cell_type": "code",
   "execution_count": 81,
   "id": "5141c117",
   "metadata": {},
   "outputs": [
    {
     "name": "stdout",
     "output_type": "stream",
     "text": [
      "Unscaled Testing RMSE: 13.753\n"
     ]
    }
   ],
   "source": [
    "print(\n",
    "    \"Unscaled Testing RMSE: %.3f\"\n",
    "    % mean_squared_error(\n",
    "        scaler.inverse_transform(price_test),\n",
    "        scaler.inverse_transform(price_test_pred.reshape(-1, 1)),\n",
    "        squared=False,\n",
    "    )\n",
    ")"
   ]
  },
  {
   "cell_type": "code",
   "execution_count": null,
   "id": "0fda8df3",
   "metadata": {},
   "outputs": [],
   "source": []
  }
 ],
 "metadata": {
  "kernelspec": {
   "display_name": "Python 3",
   "language": "python",
   "name": "python3"
  },
  "language_info": {
   "codemirror_mode": {
    "name": "ipython",
    "version": 3
   },
   "file_extension": ".py",
   "mimetype": "text/x-python",
   "name": "python",
   "nbconvert_exporter": "python",
   "pygments_lexer": "ipython3",
   "version": "3.8.13"
  }
 },
 "nbformat": 4,
 "nbformat_minor": 5
}
