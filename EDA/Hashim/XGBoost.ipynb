{
 "cells": [
  {
   "cell_type": "markdown",
   "source": [
    "<h1>Read the data in</h1>\n",
    "\n",
    "<p>Read data, do any preprocessing as necessary</p>"
   ],
   "metadata": {
    "collapsed": false,
    "pycharm": {
     "name": "#%% md\n"
    }
   }
  },
  {
   "cell_type": "code",
   "execution_count": 77,
   "metadata": {
    "collapsed": true
   },
   "outputs": [],
   "source": [
    "import numpy as np\n",
    "import pandas as pd\n",
    "import seaborn as sns\n",
    "import matplotlib.pyplot as plt\n",
    "\n",
    "data = pd.read_csv(\"./final_data.csv\")"
   ]
  },
  {
   "cell_type": "code",
   "execution_count": 78,
   "outputs": [
    {
     "data": {
      "text/plain": "                        time  generation biomass  \\\n0  2015-01-01 00:00:00+01:00               447.0   \n1  2015-01-01 01:00:00+01:00               449.0   \n2  2015-01-01 02:00:00+01:00               448.0   \n3  2015-01-01 03:00:00+01:00               438.0   \n4  2015-01-01 04:00:00+01:00               428.0   \n\n   generation fossil brown coal/lignite  generation fossil coal-derived gas  \\\n0                                 329.0                                 0.0   \n1                                 328.0                                 0.0   \n2                                 323.0                                 0.0   \n3                                 254.0                                 0.0   \n4                                 187.0                                 0.0   \n\n   generation fossil gas  generation fossil hard coal  generation fossil oil  \\\n0                 4844.0                       4821.0                  162.0   \n1                 5196.0                       4755.0                  158.0   \n2                 4857.0                       4581.0                  157.0   \n3                 4314.0                       4131.0                  160.0   \n4                 4130.0                       3840.0                  156.0   \n\n   generation fossil oil shale  generation fossil peat  generation geothermal  \\\n0                          0.0                     0.0                    0.0   \n1                          0.0                     0.0                    0.0   \n2                          0.0                     0.0                    0.0   \n3                          0.0                     0.0                    0.0   \n4                          0.0                     0.0                    0.0   \n\n   ...  weather_main_mist  weather_main_rain  weather_main_thunderstorm  \\\n0  ...                  0                  0                          0   \n1  ...                  0                  0                          0   \n2  ...                  0                  0                          0   \n3  ...                  0                  0                          0   \n4  ...                  0                  0                          0   \n\n   time_of_day_day  time_of_day_morning  time_of_day_night  season_fall  \\\n0                0                    0                  1            0   \n1                0                    0                  1            0   \n2                0                    0                  1            0   \n3                0                    0                  1            0   \n4                0                    0                  1            0   \n\n   season_spring  season_summer  season_winter  \n0              0              0              1  \n1              0              0              1  \n2              0              0              1  \n3              0              0              1  \n4              0              0              1  \n\n[5 rows x 52 columns]",
      "text/html": "<div>\n<style scoped>\n    .dataframe tbody tr th:only-of-type {\n        vertical-align: middle;\n    }\n\n    .dataframe tbody tr th {\n        vertical-align: top;\n    }\n\n    .dataframe thead th {\n        text-align: right;\n    }\n</style>\n<table border=\"1\" class=\"dataframe\">\n  <thead>\n    <tr style=\"text-align: right;\">\n      <th></th>\n      <th>time</th>\n      <th>generation biomass</th>\n      <th>generation fossil brown coal/lignite</th>\n      <th>generation fossil coal-derived gas</th>\n      <th>generation fossil gas</th>\n      <th>generation fossil hard coal</th>\n      <th>generation fossil oil</th>\n      <th>generation fossil oil shale</th>\n      <th>generation fossil peat</th>\n      <th>generation geothermal</th>\n      <th>...</th>\n      <th>weather_main_mist</th>\n      <th>weather_main_rain</th>\n      <th>weather_main_thunderstorm</th>\n      <th>time_of_day_day</th>\n      <th>time_of_day_morning</th>\n      <th>time_of_day_night</th>\n      <th>season_fall</th>\n      <th>season_spring</th>\n      <th>season_summer</th>\n      <th>season_winter</th>\n    </tr>\n  </thead>\n  <tbody>\n    <tr>\n      <th>0</th>\n      <td>2015-01-01 00:00:00+01:00</td>\n      <td>447.0</td>\n      <td>329.0</td>\n      <td>0.0</td>\n      <td>4844.0</td>\n      <td>4821.0</td>\n      <td>162.0</td>\n      <td>0.0</td>\n      <td>0.0</td>\n      <td>0.0</td>\n      <td>...</td>\n      <td>0</td>\n      <td>0</td>\n      <td>0</td>\n      <td>0</td>\n      <td>0</td>\n      <td>1</td>\n      <td>0</td>\n      <td>0</td>\n      <td>0</td>\n      <td>1</td>\n    </tr>\n    <tr>\n      <th>1</th>\n      <td>2015-01-01 01:00:00+01:00</td>\n      <td>449.0</td>\n      <td>328.0</td>\n      <td>0.0</td>\n      <td>5196.0</td>\n      <td>4755.0</td>\n      <td>158.0</td>\n      <td>0.0</td>\n      <td>0.0</td>\n      <td>0.0</td>\n      <td>...</td>\n      <td>0</td>\n      <td>0</td>\n      <td>0</td>\n      <td>0</td>\n      <td>0</td>\n      <td>1</td>\n      <td>0</td>\n      <td>0</td>\n      <td>0</td>\n      <td>1</td>\n    </tr>\n    <tr>\n      <th>2</th>\n      <td>2015-01-01 02:00:00+01:00</td>\n      <td>448.0</td>\n      <td>323.0</td>\n      <td>0.0</td>\n      <td>4857.0</td>\n      <td>4581.0</td>\n      <td>157.0</td>\n      <td>0.0</td>\n      <td>0.0</td>\n      <td>0.0</td>\n      <td>...</td>\n      <td>0</td>\n      <td>0</td>\n      <td>0</td>\n      <td>0</td>\n      <td>0</td>\n      <td>1</td>\n      <td>0</td>\n      <td>0</td>\n      <td>0</td>\n      <td>1</td>\n    </tr>\n    <tr>\n      <th>3</th>\n      <td>2015-01-01 03:00:00+01:00</td>\n      <td>438.0</td>\n      <td>254.0</td>\n      <td>0.0</td>\n      <td>4314.0</td>\n      <td>4131.0</td>\n      <td>160.0</td>\n      <td>0.0</td>\n      <td>0.0</td>\n      <td>0.0</td>\n      <td>...</td>\n      <td>0</td>\n      <td>0</td>\n      <td>0</td>\n      <td>0</td>\n      <td>0</td>\n      <td>1</td>\n      <td>0</td>\n      <td>0</td>\n      <td>0</td>\n      <td>1</td>\n    </tr>\n    <tr>\n      <th>4</th>\n      <td>2015-01-01 04:00:00+01:00</td>\n      <td>428.0</td>\n      <td>187.0</td>\n      <td>0.0</td>\n      <td>4130.0</td>\n      <td>3840.0</td>\n      <td>156.0</td>\n      <td>0.0</td>\n      <td>0.0</td>\n      <td>0.0</td>\n      <td>...</td>\n      <td>0</td>\n      <td>0</td>\n      <td>0</td>\n      <td>0</td>\n      <td>0</td>\n      <td>1</td>\n      <td>0</td>\n      <td>0</td>\n      <td>0</td>\n      <td>1</td>\n    </tr>\n  </tbody>\n</table>\n<p>5 rows × 52 columns</p>\n</div>"
     },
     "execution_count": 78,
     "metadata": {},
     "output_type": "execute_result"
    }
   ],
   "source": [
    "data.head()"
   ],
   "metadata": {
    "collapsed": false,
    "pycharm": {
     "name": "#%%\n"
    }
   }
  },
  {
   "cell_type": "code",
   "execution_count": 79,
   "outputs": [
    {
     "data": {
      "text/plain": "                            time  generation biomass  \\\n35012  2018-12-31 19:00:00+01:00               297.0   \n35013  2018-12-31 20:00:00+01:00               296.0   \n35014  2018-12-31 21:00:00+01:00               292.0   \n35015  2018-12-31 22:00:00+01:00               293.0   \n35016  2018-12-31 23:00:00+01:00               290.0   \n\n       generation fossil brown coal/lignite  \\\n35012                                   0.0   \n35013                                   0.0   \n35014                                   0.0   \n35015                                   0.0   \n35016                                   0.0   \n\n       generation fossil coal-derived gas  generation fossil gas  \\\n35012                                 0.0                 7634.0   \n35013                                 0.0                 7241.0   \n35014                                 0.0                 7025.0   \n35015                                 0.0                 6562.0   \n35016                                 0.0                 6926.0   \n\n       generation fossil hard coal  generation fossil oil  \\\n35012                       2628.0                  178.0   \n35013                       2566.0                  174.0   \n35014                       2422.0                  168.0   \n35015                       2293.0                  163.0   \n35016                       2166.0                  163.0   \n\n       generation fossil oil shale  generation fossil peat  \\\n35012                          0.0                     0.0   \n35013                          0.0                     0.0   \n35014                          0.0                     0.0   \n35015                          0.0                     0.0   \n35016                          0.0                     0.0   \n\n       generation geothermal  ...  weather_main_mist  weather_main_rain  \\\n35012                    0.0  ...                  0                  0   \n35013                    0.0  ...                  0                  0   \n35014                    0.0  ...                  0                  0   \n35015                    0.0  ...                  0                  0   \n35016                    0.0  ...                  0                  0   \n\n       weather_main_thunderstorm  time_of_day_day  time_of_day_morning  \\\n35012                          0                0                    0   \n35013                          0                0                    0   \n35014                          0                0                    0   \n35015                          0                0                    0   \n35016                          0                0                    0   \n\n       time_of_day_night  season_fall  season_spring  season_summer  \\\n35012                  1            0              0              0   \n35013                  1            0              0              0   \n35014                  1            0              0              0   \n35015                  1            0              0              0   \n35016                  1            0              0              0   \n\n       season_winter  \n35012              1  \n35013              1  \n35014              1  \n35015              1  \n35016              1  \n\n[5 rows x 52 columns]",
      "text/html": "<div>\n<style scoped>\n    .dataframe tbody tr th:only-of-type {\n        vertical-align: middle;\n    }\n\n    .dataframe tbody tr th {\n        vertical-align: top;\n    }\n\n    .dataframe thead th {\n        text-align: right;\n    }\n</style>\n<table border=\"1\" class=\"dataframe\">\n  <thead>\n    <tr style=\"text-align: right;\">\n      <th></th>\n      <th>time</th>\n      <th>generation biomass</th>\n      <th>generation fossil brown coal/lignite</th>\n      <th>generation fossil coal-derived gas</th>\n      <th>generation fossil gas</th>\n      <th>generation fossil hard coal</th>\n      <th>generation fossil oil</th>\n      <th>generation fossil oil shale</th>\n      <th>generation fossil peat</th>\n      <th>generation geothermal</th>\n      <th>...</th>\n      <th>weather_main_mist</th>\n      <th>weather_main_rain</th>\n      <th>weather_main_thunderstorm</th>\n      <th>time_of_day_day</th>\n      <th>time_of_day_morning</th>\n      <th>time_of_day_night</th>\n      <th>season_fall</th>\n      <th>season_spring</th>\n      <th>season_summer</th>\n      <th>season_winter</th>\n    </tr>\n  </thead>\n  <tbody>\n    <tr>\n      <th>35012</th>\n      <td>2018-12-31 19:00:00+01:00</td>\n      <td>297.0</td>\n      <td>0.0</td>\n      <td>0.0</td>\n      <td>7634.0</td>\n      <td>2628.0</td>\n      <td>178.0</td>\n      <td>0.0</td>\n      <td>0.0</td>\n      <td>0.0</td>\n      <td>...</td>\n      <td>0</td>\n      <td>0</td>\n      <td>0</td>\n      <td>0</td>\n      <td>0</td>\n      <td>1</td>\n      <td>0</td>\n      <td>0</td>\n      <td>0</td>\n      <td>1</td>\n    </tr>\n    <tr>\n      <th>35013</th>\n      <td>2018-12-31 20:00:00+01:00</td>\n      <td>296.0</td>\n      <td>0.0</td>\n      <td>0.0</td>\n      <td>7241.0</td>\n      <td>2566.0</td>\n      <td>174.0</td>\n      <td>0.0</td>\n      <td>0.0</td>\n      <td>0.0</td>\n      <td>...</td>\n      <td>0</td>\n      <td>0</td>\n      <td>0</td>\n      <td>0</td>\n      <td>0</td>\n      <td>1</td>\n      <td>0</td>\n      <td>0</td>\n      <td>0</td>\n      <td>1</td>\n    </tr>\n    <tr>\n      <th>35014</th>\n      <td>2018-12-31 21:00:00+01:00</td>\n      <td>292.0</td>\n      <td>0.0</td>\n      <td>0.0</td>\n      <td>7025.0</td>\n      <td>2422.0</td>\n      <td>168.0</td>\n      <td>0.0</td>\n      <td>0.0</td>\n      <td>0.0</td>\n      <td>...</td>\n      <td>0</td>\n      <td>0</td>\n      <td>0</td>\n      <td>0</td>\n      <td>0</td>\n      <td>1</td>\n      <td>0</td>\n      <td>0</td>\n      <td>0</td>\n      <td>1</td>\n    </tr>\n    <tr>\n      <th>35015</th>\n      <td>2018-12-31 22:00:00+01:00</td>\n      <td>293.0</td>\n      <td>0.0</td>\n      <td>0.0</td>\n      <td>6562.0</td>\n      <td>2293.0</td>\n      <td>163.0</td>\n      <td>0.0</td>\n      <td>0.0</td>\n      <td>0.0</td>\n      <td>...</td>\n      <td>0</td>\n      <td>0</td>\n      <td>0</td>\n      <td>0</td>\n      <td>0</td>\n      <td>1</td>\n      <td>0</td>\n      <td>0</td>\n      <td>0</td>\n      <td>1</td>\n    </tr>\n    <tr>\n      <th>35016</th>\n      <td>2018-12-31 23:00:00+01:00</td>\n      <td>290.0</td>\n      <td>0.0</td>\n      <td>0.0</td>\n      <td>6926.0</td>\n      <td>2166.0</td>\n      <td>163.0</td>\n      <td>0.0</td>\n      <td>0.0</td>\n      <td>0.0</td>\n      <td>...</td>\n      <td>0</td>\n      <td>0</td>\n      <td>0</td>\n      <td>0</td>\n      <td>0</td>\n      <td>1</td>\n      <td>0</td>\n      <td>0</td>\n      <td>0</td>\n      <td>1</td>\n    </tr>\n  </tbody>\n</table>\n<p>5 rows × 52 columns</p>\n</div>"
     },
     "execution_count": 79,
     "metadata": {},
     "output_type": "execute_result"
    }
   ],
   "source": [
    "data.tail()"
   ],
   "metadata": {
    "collapsed": false,
    "pycharm": {
     "name": "#%%\n"
    }
   }
  },
  {
   "cell_type": "code",
   "execution_count": 80,
   "outputs": [
    {
     "data": {
      "text/plain": "Index(['time', 'generation biomass', 'generation fossil brown coal/lignite',\n       'generation fossil coal-derived gas', 'generation fossil gas',\n       'generation fossil hard coal', 'generation fossil oil',\n       'generation fossil oil shale', 'generation fossil peat',\n       'generation geothermal', 'generation hydro pumped storage consumption',\n       'generation hydro run-of-river and poundage',\n       'generation hydro water reservoir', 'generation marine',\n       'generation nuclear', 'generation other', 'generation other renewable',\n       'generation solar', 'generation waste', 'generation wind offshore',\n       'generation wind onshore', 'forecast solar day ahead',\n       'forecast wind onshore day ahead', 'total load forecast',\n       'total load actual', 'price day ahead', 'price actual', 'temp',\n       'temp_min', 'temp_max', 'pressure', 'humidity', 'wind_speed',\n       'wind_deg', 'rain_1h', 'rain_3h', 'snow_3h', 'clouds_all',\n       'weather_main_clear', 'weather_main_clouds', 'weather_main_drizzle',\n       'weather_main_fog', 'weather_main_mist', 'weather_main_rain',\n       'weather_main_thunderstorm', 'time_of_day_day', 'time_of_day_morning',\n       'time_of_day_night', 'season_fall', 'season_spring', 'season_summer',\n       'season_winter'],\n      dtype='object')"
     },
     "execution_count": 80,
     "metadata": {},
     "output_type": "execute_result"
    }
   ],
   "source": [
    "data.columns"
   ],
   "metadata": {
    "collapsed": false,
    "pycharm": {
     "name": "#%%\n"
    }
   }
  },
  {
   "cell_type": "code",
   "execution_count": 81,
   "outputs": [],
   "source": [
    "# Function that will sum some columns, average others\n",
    "from sklearn.pipeline import Pipeline\n",
    "from data_processing import *\n",
    "\n",
    "def sum_avg(df, sum_cols, avg_cols, no_touch, period=\"D\", dates_col=\"time\"):\n",
    "    # Get two dataframes, one to sum the other to average\n",
    "    df_sum = df[sum_cols + [dates_col]].copy()\n",
    "    df_avg = df[avg_cols + [dates_col]].copy()\n",
    "    df_no_touch = df[no_touch + [dates_col]].copy()\n",
    "\n",
    "    # Create pipelines needed\n",
    "    avg_pipeline = Pipeline([\n",
    "        (\"avg\", StatsPeriod(period=period, dates_col=dates_col))\n",
    "    ])\n",
    "\n",
    "    sum_pipeline = Pipeline([\n",
    "        (\"sum\", StatsPeriod(aggregate=\"sum\", period=period, dates_col=dates_col))\n",
    "    ])\n",
    "\n",
    "    untouched_pipeline = Pipeline([\n",
    "        (\"untouched\", StatsPeriod(aggregate=\"\", period=period, dates_col=dates_col))\n",
    "    ])\n",
    "\n",
    "    avg = avg_pipeline.fit_transform(df_avg)\n",
    "    total = sum_pipeline.fit_transform(df_sum)\n",
    "    untouched = untouched_pipeline.fit_transform(df_no_touch)\n",
    "    return avg[0].join(total[0]).join(untouched[0]).copy()"
   ],
   "metadata": {
    "collapsed": false,
    "pycharm": {
     "name": "#%%\n"
    }
   }
  },
  {
   "cell_type": "code",
   "execution_count": 82,
   "outputs": [],
   "source": [
    "# Get columns to sum over, average over\n",
    "sum_vals = ['generation biomass', 'generation fossil brown coal/lignite',\n",
    "       'generation fossil coal-derived gas', 'generation fossil gas',\n",
    "       'generation fossil hard coal', 'generation fossil oil',\n",
    "       'generation fossil oil shale', 'generation fossil peat',\n",
    "       'generation geothermal', 'generation hydro pumped storage consumption',\n",
    "       'generation hydro run-of-river and poundage',\n",
    "       'generation hydro water reservoir', 'generation marine',\n",
    "       'generation nuclear', 'generation other', 'generation other renewable',\n",
    "       'generation solar', 'generation waste', 'generation wind offshore',\n",
    "       'generation wind onshore', 'rain_1h', 'rain_3h', 'snow_3h', 'clouds_all']\n",
    "\n",
    "avg_vals = ['forecast solar day ahead',\n",
    "       'forecast wind onshore day ahead', 'total load forecast',\n",
    "       'total load actual', 'price day ahead', 'price actual', 'temp',\n",
    "       'pressure', 'humidity', 'wind_speed',\n",
    "       'wind_deg']\n",
    "\n",
    "no_touch = ['temp_min', 'temp_max', 'weather_main_clear', 'weather_main_clouds', 'weather_main_drizzle',\n",
    "       'weather_main_fog', 'weather_main_mist', 'weather_main_rain',\n",
    "       'weather_main_thunderstorm', 'time_of_day_day', 'time_of_day_morning',\n",
    "       'time_of_day_night', 'season_fall', 'season_spring', 'season_summer',\n",
    "       'season_winter']"
   ],
   "metadata": {
    "collapsed": false,
    "pycharm": {
     "name": "#%%\n"
    }
   }
  },
  {
   "cell_type": "code",
   "execution_count": 83,
   "outputs": [],
   "source": [
    "data = sum_avg(data, sum_vals, avg_vals, no_touch)"
   ],
   "metadata": {
    "collapsed": false,
    "pycharm": {
     "name": "#%%\n"
    }
   }
  },
  {
   "cell_type": "code",
   "execution_count": 84,
   "outputs": [
    {
     "data": {
      "text/plain": "            forecast solar day ahead  forecast wind onshore day ahead  \\\nDate                                                                    \n2014-12-31                 17.000000                      6436.000000   \n2015-01-01               1049.500000                      3942.416667   \n2015-01-02               1187.208333                     11117.041667   \n2015-01-03               1133.375000                      9113.416667   \n2015-01-04               2292.041667                      8022.833333   \n...                              ...                              ...   \n2018-12-27                707.375000                      1300.083333   \n2018-12-28                743.958333                      4226.208333   \n2018-12-29                673.333333                      6665.833333   \n2018-12-30               1021.583333                      4989.583333   \n2018-12-31               1148.869565                      3114.869565   \n\n            total load forecast  total load actual  price actual        temp  \\\nDate                                                                           \n2014-12-31         26118.000000       25385.000000     65.410000  272.491463   \n2015-01-01         24753.250000       23966.958333     62.090833  277.001207   \n2015-01-02         27519.416667       27188.541667     69.443750  277.951217   \n2015-01-03         25500.833333       25097.750000     65.223333  278.829727   \n2015-01-04         27167.875000       27104.916667     58.912083  279.643354   \n...                         ...                ...           ...         ...   \n2018-12-27         28856.500000       28551.708333     72.959583  280.766833   \n2018-12-28         28553.416667       28661.166667     69.230417  281.112083   \n2018-12-29         26427.166667       26603.958333     62.623333  281.105917   \n2018-12-30         25278.416667       25238.500000     64.567083  280.317083   \n2018-12-31         25949.217391       25966.173913     68.318696  280.635304   \n\n               pressure   humidity  wind_speed    wind_deg  ...  \\\nDate                                                        ...   \n2014-12-31  1016.400000  82.400000    2.000000  135.200000  ...   \n2015-01-01  1022.125000  75.466667    1.933333  184.866667  ...   \n2015-01-02  1024.691667  77.891667    1.575000  213.858333  ...   \n2015-01-03  1020.375000  78.016667    1.558333  188.366667  ...   \n2015-01-04  1016.008333  77.358333    1.250000  158.775000  ...   \n...                 ...        ...         ...         ...  ...   \n2018-12-27  1027.175000  81.241667    1.525000  176.125000  ...   \n2018-12-28  1027.983333  82.175000    1.983333  174.783333  ...   \n2018-12-29  1029.400000  78.625000    2.833333  176.533333  ...   \n2018-12-30  1029.625000  73.333333    2.908333  161.583333  ...   \n2018-12-31  1030.191304  69.991304    2.478261  163.339130  ...   \n\n            weather_main_mist  weather_main_rain  weather_main_thunderstorm  \\\nDate                                                                          \n2014-12-31              False              False                      False   \n2015-01-01              False              False                      False   \n2015-01-02              False              False                      False   \n2015-01-03              False              False                      False   \n2015-01-04              False              False                      False   \n...                       ...                ...                        ...   \n2018-12-27              False              False                      False   \n2018-12-28              False              False                      False   \n2018-12-29              False              False                      False   \n2018-12-30              False              False                      False   \n2018-12-31              False              False                      False   \n\n            time_of_day_day  time_of_day_morning  time_of_day_night  \\\nDate                                                                  \n2014-12-31            False                False               True   \n2015-01-01            False                False              False   \n2015-01-02            False                False              False   \n2015-01-03            False                False              False   \n2015-01-04            False                False              False   \n...                     ...                  ...                ...   \n2018-12-27            False                False              False   \n2018-12-28            False                False              False   \n2018-12-29            False                False              False   \n2018-12-30            False                False              False   \n2018-12-31            False                False              False   \n\n            season_fall  season_spring  season_summer  season_winter  \nDate                                                                  \n2014-12-31        False          False          False           True  \n2015-01-01        False          False          False           True  \n2015-01-02        False          False          False           True  \n2015-01-03        False          False          False           True  \n2015-01-04        False          False          False           True  \n...                 ...            ...            ...            ...  \n2018-12-27        False          False          False           True  \n2018-12-28        False          False          False           True  \n2018-12-29        False          False          False           True  \n2018-12-30        False          False          False           True  \n2018-12-31        False          False          False           True  \n\n[1462 rows x 50 columns]",
      "text/html": "<div>\n<style scoped>\n    .dataframe tbody tr th:only-of-type {\n        vertical-align: middle;\n    }\n\n    .dataframe tbody tr th {\n        vertical-align: top;\n    }\n\n    .dataframe thead th {\n        text-align: right;\n    }\n</style>\n<table border=\"1\" class=\"dataframe\">\n  <thead>\n    <tr style=\"text-align: right;\">\n      <th></th>\n      <th>forecast solar day ahead</th>\n      <th>forecast wind onshore day ahead</th>\n      <th>total load forecast</th>\n      <th>total load actual</th>\n      <th>price actual</th>\n      <th>temp</th>\n      <th>pressure</th>\n      <th>humidity</th>\n      <th>wind_speed</th>\n      <th>wind_deg</th>\n      <th>...</th>\n      <th>weather_main_mist</th>\n      <th>weather_main_rain</th>\n      <th>weather_main_thunderstorm</th>\n      <th>time_of_day_day</th>\n      <th>time_of_day_morning</th>\n      <th>time_of_day_night</th>\n      <th>season_fall</th>\n      <th>season_spring</th>\n      <th>season_summer</th>\n      <th>season_winter</th>\n    </tr>\n    <tr>\n      <th>Date</th>\n      <th></th>\n      <th></th>\n      <th></th>\n      <th></th>\n      <th></th>\n      <th></th>\n      <th></th>\n      <th></th>\n      <th></th>\n      <th></th>\n      <th></th>\n      <th></th>\n      <th></th>\n      <th></th>\n      <th></th>\n      <th></th>\n      <th></th>\n      <th></th>\n      <th></th>\n      <th></th>\n      <th></th>\n    </tr>\n  </thead>\n  <tbody>\n    <tr>\n      <th>2014-12-31</th>\n      <td>17.000000</td>\n      <td>6436.000000</td>\n      <td>26118.000000</td>\n      <td>25385.000000</td>\n      <td>65.410000</td>\n      <td>272.491463</td>\n      <td>1016.400000</td>\n      <td>82.400000</td>\n      <td>2.000000</td>\n      <td>135.200000</td>\n      <td>...</td>\n      <td>False</td>\n      <td>False</td>\n      <td>False</td>\n      <td>False</td>\n      <td>False</td>\n      <td>True</td>\n      <td>False</td>\n      <td>False</td>\n      <td>False</td>\n      <td>True</td>\n    </tr>\n    <tr>\n      <th>2015-01-01</th>\n      <td>1049.500000</td>\n      <td>3942.416667</td>\n      <td>24753.250000</td>\n      <td>23966.958333</td>\n      <td>62.090833</td>\n      <td>277.001207</td>\n      <td>1022.125000</td>\n      <td>75.466667</td>\n      <td>1.933333</td>\n      <td>184.866667</td>\n      <td>...</td>\n      <td>False</td>\n      <td>False</td>\n      <td>False</td>\n      <td>False</td>\n      <td>False</td>\n      <td>False</td>\n      <td>False</td>\n      <td>False</td>\n      <td>False</td>\n      <td>True</td>\n    </tr>\n    <tr>\n      <th>2015-01-02</th>\n      <td>1187.208333</td>\n      <td>11117.041667</td>\n      <td>27519.416667</td>\n      <td>27188.541667</td>\n      <td>69.443750</td>\n      <td>277.951217</td>\n      <td>1024.691667</td>\n      <td>77.891667</td>\n      <td>1.575000</td>\n      <td>213.858333</td>\n      <td>...</td>\n      <td>False</td>\n      <td>False</td>\n      <td>False</td>\n      <td>False</td>\n      <td>False</td>\n      <td>False</td>\n      <td>False</td>\n      <td>False</td>\n      <td>False</td>\n      <td>True</td>\n    </tr>\n    <tr>\n      <th>2015-01-03</th>\n      <td>1133.375000</td>\n      <td>9113.416667</td>\n      <td>25500.833333</td>\n      <td>25097.750000</td>\n      <td>65.223333</td>\n      <td>278.829727</td>\n      <td>1020.375000</td>\n      <td>78.016667</td>\n      <td>1.558333</td>\n      <td>188.366667</td>\n      <td>...</td>\n      <td>False</td>\n      <td>False</td>\n      <td>False</td>\n      <td>False</td>\n      <td>False</td>\n      <td>False</td>\n      <td>False</td>\n      <td>False</td>\n      <td>False</td>\n      <td>True</td>\n    </tr>\n    <tr>\n      <th>2015-01-04</th>\n      <td>2292.041667</td>\n      <td>8022.833333</td>\n      <td>27167.875000</td>\n      <td>27104.916667</td>\n      <td>58.912083</td>\n      <td>279.643354</td>\n      <td>1016.008333</td>\n      <td>77.358333</td>\n      <td>1.250000</td>\n      <td>158.775000</td>\n      <td>...</td>\n      <td>False</td>\n      <td>False</td>\n      <td>False</td>\n      <td>False</td>\n      <td>False</td>\n      <td>False</td>\n      <td>False</td>\n      <td>False</td>\n      <td>False</td>\n      <td>True</td>\n    </tr>\n    <tr>\n      <th>...</th>\n      <td>...</td>\n      <td>...</td>\n      <td>...</td>\n      <td>...</td>\n      <td>...</td>\n      <td>...</td>\n      <td>...</td>\n      <td>...</td>\n      <td>...</td>\n      <td>...</td>\n      <td>...</td>\n      <td>...</td>\n      <td>...</td>\n      <td>...</td>\n      <td>...</td>\n      <td>...</td>\n      <td>...</td>\n      <td>...</td>\n      <td>...</td>\n      <td>...</td>\n      <td>...</td>\n    </tr>\n    <tr>\n      <th>2018-12-27</th>\n      <td>707.375000</td>\n      <td>1300.083333</td>\n      <td>28856.500000</td>\n      <td>28551.708333</td>\n      <td>72.959583</td>\n      <td>280.766833</td>\n      <td>1027.175000</td>\n      <td>81.241667</td>\n      <td>1.525000</td>\n      <td>176.125000</td>\n      <td>...</td>\n      <td>False</td>\n      <td>False</td>\n      <td>False</td>\n      <td>False</td>\n      <td>False</td>\n      <td>False</td>\n      <td>False</td>\n      <td>False</td>\n      <td>False</td>\n      <td>True</td>\n    </tr>\n    <tr>\n      <th>2018-12-28</th>\n      <td>743.958333</td>\n      <td>4226.208333</td>\n      <td>28553.416667</td>\n      <td>28661.166667</td>\n      <td>69.230417</td>\n      <td>281.112083</td>\n      <td>1027.983333</td>\n      <td>82.175000</td>\n      <td>1.983333</td>\n      <td>174.783333</td>\n      <td>...</td>\n      <td>False</td>\n      <td>False</td>\n      <td>False</td>\n      <td>False</td>\n      <td>False</td>\n      <td>False</td>\n      <td>False</td>\n      <td>False</td>\n      <td>False</td>\n      <td>True</td>\n    </tr>\n    <tr>\n      <th>2018-12-29</th>\n      <td>673.333333</td>\n      <td>6665.833333</td>\n      <td>26427.166667</td>\n      <td>26603.958333</td>\n      <td>62.623333</td>\n      <td>281.105917</td>\n      <td>1029.400000</td>\n      <td>78.625000</td>\n      <td>2.833333</td>\n      <td>176.533333</td>\n      <td>...</td>\n      <td>False</td>\n      <td>False</td>\n      <td>False</td>\n      <td>False</td>\n      <td>False</td>\n      <td>False</td>\n      <td>False</td>\n      <td>False</td>\n      <td>False</td>\n      <td>True</td>\n    </tr>\n    <tr>\n      <th>2018-12-30</th>\n      <td>1021.583333</td>\n      <td>4989.583333</td>\n      <td>25278.416667</td>\n      <td>25238.500000</td>\n      <td>64.567083</td>\n      <td>280.317083</td>\n      <td>1029.625000</td>\n      <td>73.333333</td>\n      <td>2.908333</td>\n      <td>161.583333</td>\n      <td>...</td>\n      <td>False</td>\n      <td>False</td>\n      <td>False</td>\n      <td>False</td>\n      <td>False</td>\n      <td>False</td>\n      <td>False</td>\n      <td>False</td>\n      <td>False</td>\n      <td>True</td>\n    </tr>\n    <tr>\n      <th>2018-12-31</th>\n      <td>1148.869565</td>\n      <td>3114.869565</td>\n      <td>25949.217391</td>\n      <td>25966.173913</td>\n      <td>68.318696</td>\n      <td>280.635304</td>\n      <td>1030.191304</td>\n      <td>69.991304</td>\n      <td>2.478261</td>\n      <td>163.339130</td>\n      <td>...</td>\n      <td>False</td>\n      <td>False</td>\n      <td>False</td>\n      <td>False</td>\n      <td>False</td>\n      <td>False</td>\n      <td>False</td>\n      <td>False</td>\n      <td>False</td>\n      <td>True</td>\n    </tr>\n  </tbody>\n</table>\n<p>1462 rows × 50 columns</p>\n</div>"
     },
     "execution_count": 84,
     "metadata": {},
     "output_type": "execute_result"
    }
   ],
   "source": [
    "data.drop(\"price day ahead\", axis=1, inplace=True)\n",
    "data"
   ],
   "metadata": {
    "collapsed": false,
    "pycharm": {
     "name": "#%%\n"
    }
   }
  },
  {
   "cell_type": "markdown",
   "source": [
    "<h1>Run the model</h1>\n",
    "<p>Predict Price and Load based on dataset</p>"
   ],
   "metadata": {
    "collapsed": false,
    "pycharm": {
     "name": "#%% md\n"
    }
   }
  },
  {
   "cell_type": "code",
   "execution_count": 85,
   "outputs": [],
   "source": [
    "from sklearn.model_selection import train_test_split\n",
    "\n",
    "X_train, X_test, y_train, y_test = train_test_split(data[data.columns[~data.columns.isin([\"price actual\"])]], data[\"price actual\"], test_size=0.2)"
   ],
   "metadata": {
    "collapsed": false,
    "pycharm": {
     "name": "#%%\n"
    }
   }
  },
  {
   "cell_type": "code",
   "execution_count": 86,
   "outputs": [
    {
     "data": {
      "text/plain": "            forecast solar day ahead  forecast wind onshore day ahead  \\\nDate                                                                    \n2018-06-13               2236.958333                      7011.375000   \n2016-01-04               2121.250000                      6459.208333   \n2015-08-20               2217.000000                      2674.791667   \n2016-07-30               2162.291667                      4895.458333   \n2016-09-20               1641.791667                      3687.166667   \n...                              ...                              ...   \n2016-09-29               1781.666667                      4075.916667   \n2015-05-18               2285.458333                      4814.583333   \n2015-12-16                623.083333                      5408.666667   \n2015-01-22                794.958333                      9843.916667   \n2016-06-06               2318.250000                      2407.083333   \n\n            total load forecast  total load actual        temp     pressure  \\\nDate                                                                          \n2018-06-13         28839.875000       28904.541667  293.795083  1016.541667   \n2016-01-04         29326.916667       29071.375000  286.474238  1005.225000   \n2015-08-20         28033.625000       28708.833333  299.142250  1018.800000   \n2016-07-30         28864.916667       28514.500000  300.369500  1015.133333   \n2016-09-20         28710.458333       28818.791667  293.043400  1014.000000   \n...                         ...                ...         ...          ...   \n2016-09-29         29094.333333       28689.958333  293.888083  1022.016667   \n2015-05-18         27857.833333       28167.041667  292.045431   998.966667   \n2015-12-16         30776.625000       30672.000000  285.956742  1029.575000   \n2015-01-22         33908.750000       33918.291667  279.566949  1002.966667   \n2016-06-06         28459.208333       28320.416667  295.759083  1017.583333   \n\n             humidity  wind_speed    wind_deg  generation biomass  ...  \\\nDate                                                               ...   \n2018-06-13  57.200000    3.133333  215.675000              7580.0  ...   \n2016-01-04  77.375000    5.758333  224.266667             10673.0  ...   \n2015-08-20  58.075000    2.550000  166.133333             13272.0  ...   \n2016-07-30  63.566667    2.866667  174.016667              9336.0  ...   \n2016-09-20  67.000000    1.541667  177.758333              8178.0  ...   \n...               ...         ...         ...                 ...  ...   \n2016-09-29  62.533333    1.933333  154.925000              8523.0  ...   \n2015-05-18  60.100000    2.466667  197.858333             11964.0  ...   \n2015-12-16  67.816667    1.883333  177.108333             12177.0  ...   \n2015-01-22  72.333333    4.008333  270.700000             12864.0  ...   \n2016-06-06  64.133333    2.375000  183.891667              8148.0  ...   \n\n            weather_main_mist  weather_main_rain  weather_main_thunderstorm  \\\nDate                                                                          \n2018-06-13              False              False                      False   \n2016-01-04              False              False                      False   \n2015-08-20              False              False                      False   \n2016-07-30              False              False                      False   \n2016-09-20              False              False                      False   \n...                       ...                ...                        ...   \n2016-09-29              False              False                      False   \n2015-05-18              False              False                      False   \n2015-12-16              False              False                      False   \n2015-01-22              False              False                      False   \n2016-06-06              False              False                      False   \n\n            time_of_day_day  time_of_day_morning  time_of_day_night  \\\nDate                                                                  \n2018-06-13            False                False              False   \n2016-01-04            False                False              False   \n2015-08-20            False                False              False   \n2016-07-30            False                False              False   \n2016-09-20            False                False              False   \n...                     ...                  ...                ...   \n2016-09-29            False                False              False   \n2015-05-18            False                False              False   \n2015-12-16            False                False              False   \n2015-01-22            False                False              False   \n2016-06-06            False                False              False   \n\n            season_fall  season_spring  season_summer  season_winter  \nDate                                                                  \n2018-06-13        False          False           True          False  \n2016-01-04        False          False          False           True  \n2015-08-20        False          False           True          False  \n2016-07-30        False          False           True          False  \n2016-09-20         True          False          False          False  \n...                 ...            ...            ...            ...  \n2016-09-29         True          False          False          False  \n2015-05-18        False           True          False          False  \n2015-12-16        False          False          False           True  \n2015-01-22        False          False          False           True  \n2016-06-06        False          False           True          False  \n\n[1169 rows x 49 columns]",
      "text/html": "<div>\n<style scoped>\n    .dataframe tbody tr th:only-of-type {\n        vertical-align: middle;\n    }\n\n    .dataframe tbody tr th {\n        vertical-align: top;\n    }\n\n    .dataframe thead th {\n        text-align: right;\n    }\n</style>\n<table border=\"1\" class=\"dataframe\">\n  <thead>\n    <tr style=\"text-align: right;\">\n      <th></th>\n      <th>forecast solar day ahead</th>\n      <th>forecast wind onshore day ahead</th>\n      <th>total load forecast</th>\n      <th>total load actual</th>\n      <th>temp</th>\n      <th>pressure</th>\n      <th>humidity</th>\n      <th>wind_speed</th>\n      <th>wind_deg</th>\n      <th>generation biomass</th>\n      <th>...</th>\n      <th>weather_main_mist</th>\n      <th>weather_main_rain</th>\n      <th>weather_main_thunderstorm</th>\n      <th>time_of_day_day</th>\n      <th>time_of_day_morning</th>\n      <th>time_of_day_night</th>\n      <th>season_fall</th>\n      <th>season_spring</th>\n      <th>season_summer</th>\n      <th>season_winter</th>\n    </tr>\n    <tr>\n      <th>Date</th>\n      <th></th>\n      <th></th>\n      <th></th>\n      <th></th>\n      <th></th>\n      <th></th>\n      <th></th>\n      <th></th>\n      <th></th>\n      <th></th>\n      <th></th>\n      <th></th>\n      <th></th>\n      <th></th>\n      <th></th>\n      <th></th>\n      <th></th>\n      <th></th>\n      <th></th>\n      <th></th>\n      <th></th>\n    </tr>\n  </thead>\n  <tbody>\n    <tr>\n      <th>2018-06-13</th>\n      <td>2236.958333</td>\n      <td>7011.375000</td>\n      <td>28839.875000</td>\n      <td>28904.541667</td>\n      <td>293.795083</td>\n      <td>1016.541667</td>\n      <td>57.200000</td>\n      <td>3.133333</td>\n      <td>215.675000</td>\n      <td>7580.0</td>\n      <td>...</td>\n      <td>False</td>\n      <td>False</td>\n      <td>False</td>\n      <td>False</td>\n      <td>False</td>\n      <td>False</td>\n      <td>False</td>\n      <td>False</td>\n      <td>True</td>\n      <td>False</td>\n    </tr>\n    <tr>\n      <th>2016-01-04</th>\n      <td>2121.250000</td>\n      <td>6459.208333</td>\n      <td>29326.916667</td>\n      <td>29071.375000</td>\n      <td>286.474238</td>\n      <td>1005.225000</td>\n      <td>77.375000</td>\n      <td>5.758333</td>\n      <td>224.266667</td>\n      <td>10673.0</td>\n      <td>...</td>\n      <td>False</td>\n      <td>False</td>\n      <td>False</td>\n      <td>False</td>\n      <td>False</td>\n      <td>False</td>\n      <td>False</td>\n      <td>False</td>\n      <td>False</td>\n      <td>True</td>\n    </tr>\n    <tr>\n      <th>2015-08-20</th>\n      <td>2217.000000</td>\n      <td>2674.791667</td>\n      <td>28033.625000</td>\n      <td>28708.833333</td>\n      <td>299.142250</td>\n      <td>1018.800000</td>\n      <td>58.075000</td>\n      <td>2.550000</td>\n      <td>166.133333</td>\n      <td>13272.0</td>\n      <td>...</td>\n      <td>False</td>\n      <td>False</td>\n      <td>False</td>\n      <td>False</td>\n      <td>False</td>\n      <td>False</td>\n      <td>False</td>\n      <td>False</td>\n      <td>True</td>\n      <td>False</td>\n    </tr>\n    <tr>\n      <th>2016-07-30</th>\n      <td>2162.291667</td>\n      <td>4895.458333</td>\n      <td>28864.916667</td>\n      <td>28514.500000</td>\n      <td>300.369500</td>\n      <td>1015.133333</td>\n      <td>63.566667</td>\n      <td>2.866667</td>\n      <td>174.016667</td>\n      <td>9336.0</td>\n      <td>...</td>\n      <td>False</td>\n      <td>False</td>\n      <td>False</td>\n      <td>False</td>\n      <td>False</td>\n      <td>False</td>\n      <td>False</td>\n      <td>False</td>\n      <td>True</td>\n      <td>False</td>\n    </tr>\n    <tr>\n      <th>2016-09-20</th>\n      <td>1641.791667</td>\n      <td>3687.166667</td>\n      <td>28710.458333</td>\n      <td>28818.791667</td>\n      <td>293.043400</td>\n      <td>1014.000000</td>\n      <td>67.000000</td>\n      <td>1.541667</td>\n      <td>177.758333</td>\n      <td>8178.0</td>\n      <td>...</td>\n      <td>False</td>\n      <td>False</td>\n      <td>False</td>\n      <td>False</td>\n      <td>False</td>\n      <td>False</td>\n      <td>True</td>\n      <td>False</td>\n      <td>False</td>\n      <td>False</td>\n    </tr>\n    <tr>\n      <th>...</th>\n      <td>...</td>\n      <td>...</td>\n      <td>...</td>\n      <td>...</td>\n      <td>...</td>\n      <td>...</td>\n      <td>...</td>\n      <td>...</td>\n      <td>...</td>\n      <td>...</td>\n      <td>...</td>\n      <td>...</td>\n      <td>...</td>\n      <td>...</td>\n      <td>...</td>\n      <td>...</td>\n      <td>...</td>\n      <td>...</td>\n      <td>...</td>\n      <td>...</td>\n      <td>...</td>\n    </tr>\n    <tr>\n      <th>2016-09-29</th>\n      <td>1781.666667</td>\n      <td>4075.916667</td>\n      <td>29094.333333</td>\n      <td>28689.958333</td>\n      <td>293.888083</td>\n      <td>1022.016667</td>\n      <td>62.533333</td>\n      <td>1.933333</td>\n      <td>154.925000</td>\n      <td>8523.0</td>\n      <td>...</td>\n      <td>False</td>\n      <td>False</td>\n      <td>False</td>\n      <td>False</td>\n      <td>False</td>\n      <td>False</td>\n      <td>True</td>\n      <td>False</td>\n      <td>False</td>\n      <td>False</td>\n    </tr>\n    <tr>\n      <th>2015-05-18</th>\n      <td>2285.458333</td>\n      <td>4814.583333</td>\n      <td>27857.833333</td>\n      <td>28167.041667</td>\n      <td>292.045431</td>\n      <td>998.966667</td>\n      <td>60.100000</td>\n      <td>2.466667</td>\n      <td>197.858333</td>\n      <td>11964.0</td>\n      <td>...</td>\n      <td>False</td>\n      <td>False</td>\n      <td>False</td>\n      <td>False</td>\n      <td>False</td>\n      <td>False</td>\n      <td>False</td>\n      <td>True</td>\n      <td>False</td>\n      <td>False</td>\n    </tr>\n    <tr>\n      <th>2015-12-16</th>\n      <td>623.083333</td>\n      <td>5408.666667</td>\n      <td>30776.625000</td>\n      <td>30672.000000</td>\n      <td>285.956742</td>\n      <td>1029.575000</td>\n      <td>67.816667</td>\n      <td>1.883333</td>\n      <td>177.108333</td>\n      <td>12177.0</td>\n      <td>...</td>\n      <td>False</td>\n      <td>False</td>\n      <td>False</td>\n      <td>False</td>\n      <td>False</td>\n      <td>False</td>\n      <td>False</td>\n      <td>False</td>\n      <td>False</td>\n      <td>True</td>\n    </tr>\n    <tr>\n      <th>2015-01-22</th>\n      <td>794.958333</td>\n      <td>9843.916667</td>\n      <td>33908.750000</td>\n      <td>33918.291667</td>\n      <td>279.566949</td>\n      <td>1002.966667</td>\n      <td>72.333333</td>\n      <td>4.008333</td>\n      <td>270.700000</td>\n      <td>12864.0</td>\n      <td>...</td>\n      <td>False</td>\n      <td>False</td>\n      <td>False</td>\n      <td>False</td>\n      <td>False</td>\n      <td>False</td>\n      <td>False</td>\n      <td>False</td>\n      <td>False</td>\n      <td>True</td>\n    </tr>\n    <tr>\n      <th>2016-06-06</th>\n      <td>2318.250000</td>\n      <td>2407.083333</td>\n      <td>28459.208333</td>\n      <td>28320.416667</td>\n      <td>295.759083</td>\n      <td>1017.583333</td>\n      <td>64.133333</td>\n      <td>2.375000</td>\n      <td>183.891667</td>\n      <td>8148.0</td>\n      <td>...</td>\n      <td>False</td>\n      <td>False</td>\n      <td>False</td>\n      <td>False</td>\n      <td>False</td>\n      <td>False</td>\n      <td>False</td>\n      <td>False</td>\n      <td>True</td>\n      <td>False</td>\n    </tr>\n  </tbody>\n</table>\n<p>1169 rows × 49 columns</p>\n</div>"
     },
     "execution_count": 86,
     "metadata": {},
     "output_type": "execute_result"
    }
   ],
   "source": [
    "# View Training Set\n",
    "X_train"
   ],
   "metadata": {
    "collapsed": false,
    "pycharm": {
     "name": "#%%\n"
    }
   }
  },
  {
   "cell_type": "code",
   "execution_count": 87,
   "outputs": [
    {
     "data": {
      "text/plain": "Date\n2018-06-13    59.475000\n2016-01-04    42.022500\n2015-08-20    66.120000\n2016-07-30    46.073750\n2016-09-20    50.580833\n                ...    \n2016-09-29    50.357917\n2015-05-18    62.684167\n2015-12-16    64.761250\n2015-01-22    64.075417\n2016-06-06    50.851250\nFreq: D, Name: price actual, Length: 1169, dtype: float64"
     },
     "execution_count": 87,
     "metadata": {},
     "output_type": "execute_result"
    }
   ],
   "source": [
    "y_train"
   ],
   "metadata": {
    "collapsed": false,
    "pycharm": {
     "name": "#%%\n"
    }
   }
  },
  {
   "cell_type": "code",
   "execution_count": 128,
   "outputs": [],
   "source": [
    "# Train the model\n",
    "from xgboost import XGBRegressor\n",
    "from sklearn.model_selection import RepeatedKFold, cross_val_score, cross_validate\n",
    "from sklearn.metrics import mean_squared_error, r2_score\n",
    "\n",
    "model = XGBRegressor(random_state=42, max_depth=10, learning_rate=0.01, n_estimators=800)"
   ],
   "metadata": {
    "collapsed": false,
    "pycharm": {
     "name": "#%%\n"
    }
   }
  },
  {
   "cell_type": "code",
   "execution_count": 140,
   "outputs": [
    {
     "data": {
      "text/plain": "array([-40.49842334, -41.33233655, -47.14787403, -50.28147861,\n       -44.384778  ])"
     },
     "execution_count": 140,
     "metadata": {},
     "output_type": "execute_result"
    }
   ],
   "source": [
    "neg_mean_square_cv = cross_val_score(model, X_train, y_train, cv=5, scoring=\"neg_mean_squared_error\")\n",
    "neg_mean_square_cv"
   ],
   "metadata": {
    "collapsed": false,
    "pycharm": {
     "name": "#%%\n"
    }
   }
  },
  {
   "cell_type": "code",
   "execution_count": 141,
   "outputs": [
    {
     "data": {
      "text/plain": "array([0.74255685, 0.69473436, 0.66156103, 0.64983992, 0.67544146])"
     },
     "execution_count": 141,
     "metadata": {},
     "output_type": "execute_result"
    }
   ],
   "source": [
    "r2_cv = cross_val_score(model, X_train, y_train, cv=5, scoring=\"r2\")\n",
    "r2_cv"
   ],
   "metadata": {
    "collapsed": false,
    "pycharm": {
     "name": "#%%\n"
    }
   }
  },
  {
   "cell_type": "code",
   "execution_count": 142,
   "outputs": [
    {
     "data": {
      "text/plain": "XGBRegressor(base_score=0.5, booster='gbtree', callbacks=None,\n             colsample_bylevel=1, colsample_bynode=1, colsample_bytree=1,\n             early_stopping_rounds=None, enable_categorical=False,\n             eval_metric=None, gamma=0, gpu_id=-1, grow_policy='depthwise',\n             importance_type=None, interaction_constraints='',\n             learning_rate=0.01, max_bin=256, max_cat_to_onehot=4,\n             max_delta_step=0, max_depth=10, max_leaves=0, min_child_weight=1,\n             missing=nan, monotone_constraints='()', n_estimators=800, n_jobs=0,\n             num_parallel_tree=1, predictor='auto', random_state=42,\n             reg_alpha=0, reg_lambda=1, ...)"
     },
     "execution_count": 142,
     "metadata": {},
     "output_type": "execute_result"
    }
   ],
   "source": [
    "# Fit and train the model\n",
    "model.fit(X_train, y_train)"
   ],
   "metadata": {
    "collapsed": false,
    "pycharm": {
     "name": "#%%\n"
    }
   }
  },
  {
   "cell_type": "code",
   "execution_count": 143,
   "outputs": [
    {
     "data": {
      "text/plain": "array([59.495552, 42.066746, 66.48844 , ..., 64.04553 , 64.29324 ,\n       50.99129 ], dtype=float32)"
     },
     "execution_count": 143,
     "metadata": {},
     "output_type": "execute_result"
    }
   ],
   "source": [
    "# See the performance of the model on the training set\n",
    "predict_train = model.predict(X_train)\n",
    "predict_train"
   ],
   "metadata": {
    "collapsed": false,
    "pycharm": {
     "name": "#%%\n"
    }
   }
  },
  {
   "cell_type": "code",
   "execution_count": 144,
   "outputs": [
    {
     "data": {
      "text/plain": "0.24222116380218967"
     },
     "execution_count": 144,
     "metadata": {},
     "output_type": "execute_result"
    }
   ],
   "source": [
    "# Determine MSE\n",
    "mean_squared_error(y_train, predict_train)"
   ],
   "metadata": {
    "collapsed": false,
    "pycharm": {
     "name": "#%%\n"
    }
   }
  },
  {
   "cell_type": "code",
   "execution_count": 145,
   "outputs": [
    {
     "data": {
      "text/plain": "0.9983053442513455"
     },
     "execution_count": 145,
     "metadata": {},
     "output_type": "execute_result"
    }
   ],
   "source": [
    "# Determine R2\n",
    "r2_score(y_train, predict_train)"
   ],
   "metadata": {
    "collapsed": false,
    "pycharm": {
     "name": "#%%\n"
    }
   }
  },
  {
   "cell_type": "code",
   "execution_count": 146,
   "outputs": [],
   "source": [
    "# Determine performance on test set\n",
    "predict = model.predict(X_test)"
   ],
   "metadata": {
    "collapsed": false,
    "pycharm": {
     "name": "#%%\n"
    }
   }
  },
  {
   "cell_type": "code",
   "execution_count": 147,
   "outputs": [
    {
     "data": {
      "text/plain": "38.74106291564759"
     },
     "execution_count": 147,
     "metadata": {},
     "output_type": "execute_result"
    }
   ],
   "source": [
    "# Determine MSE\n",
    "mean_squared_error(y_test, predict)"
   ],
   "metadata": {
    "collapsed": false,
    "pycharm": {
     "name": "#%%\n"
    }
   }
  },
  {
   "cell_type": "code",
   "execution_count": 148,
   "outputs": [
    {
     "data": {
      "text/plain": "0.7499026380794235"
     },
     "execution_count": 148,
     "metadata": {},
     "output_type": "execute_result"
    }
   ],
   "source": [
    "# Determine R2\n",
    "r2_score(y_test, predict)"
   ],
   "metadata": {
    "collapsed": false,
    "pycharm": {
     "name": "#%%\n"
    }
   }
  },
  {
   "cell_type": "markdown",
   "source": [
    "<h1>Total Load Predictions</h1>\n",
    "\n",
    "<p>Predict total load values based on dataset</p>"
   ],
   "metadata": {
    "collapsed": false,
    "pycharm": {
     "name": "#%% md\n"
    }
   }
  },
  {
   "cell_type": "code",
   "execution_count": null,
   "outputs": [],
   "source": [],
   "metadata": {
    "collapsed": false,
    "pycharm": {
     "name": "#%%\n"
    }
   }
  }
 ],
 "metadata": {
  "kernelspec": {
   "display_name": "Python 3",
   "language": "python",
   "name": "python3"
  },
  "language_info": {
   "codemirror_mode": {
    "name": "ipython",
    "version": 2
   },
   "file_extension": ".py",
   "mimetype": "text/x-python",
   "name": "python",
   "nbconvert_exporter": "python",
   "pygments_lexer": "ipython2",
   "version": "2.7.6"
  }
 },
 "nbformat": 4,
 "nbformat_minor": 0
}